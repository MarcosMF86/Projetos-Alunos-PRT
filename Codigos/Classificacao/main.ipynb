{
  "cells": [
    {
      "cell_type": "markdown",
      "metadata": {
        "id": "Fd-go3IiJkYQ"
      },
      "source": [
        "# Descrição"
      ]
    },
    {
      "cell_type": "markdown",
      "metadata": {
        "id": "oc9CViLzJRJ8"
      },
      "source": [
        "*Código base para classificação de imagens usando redes convolucionais\n",
        "*Bibliotecas\n",
        "*Carregar Bases de dados\n",
        "*Construir Modelos\n",
        "*Treinamento\n",
        "*Avaliação\n",
        "*Hold out\n",
        "Validação Cruzada"
      ]
    },
    {
      "cell_type": "markdown",
      "metadata": {
        "id": "eFpnwz0gS4u7"
      },
      "source": [
        "# Bibliotecas"
      ]
    },
    {
      "cell_type": "code",
      "execution_count": 8,
      "metadata": {
        "id": "xHb7hjIgdat3"
      },
      "outputs": [],
      "source": [
        "import os\n",
        "import zipfile\n",
        "import cv2\n",
        "import numpy as np\n",
        "import pandas as pd\n",
        "import tensorflow as tf\n",
        "import matplotlib.pyplot as plt\n",
        "from tensorflow.keras.utils import to_categorical\n",
        "from tensorflow.keras.optimizers import Adam\n",
        "from tensorflow.keras.callbacks import ModelCheckpoint, ReduceLROnPlateau\n",
        "from albumentations.core.composition import OneOf\n",
        "from tensorflow.keras.preprocessing.image import load_img, img_to_array"
      ]
    },
    {
      "cell_type": "markdown",
      "source": [
        "# Carregar Bases dados"
      ],
      "metadata": {
        "id": "qJ0olSKvCUh3"
      }
    },
    {
      "cell_type": "code",
      "execution_count": 1,
      "metadata": {
        "colab": {
          "base_uri": "https://localhost:8080/"
        },
        "id": "VyrLE6esNodC",
        "outputId": "9a9ea45d-32ea-489f-fafc-9cec7839c428"
      },
      "outputs": [
        {
          "output_type": "stream",
          "name": "stdout",
          "text": [
            "Mounted at /content/gdrive\n"
          ]
        }
      ],
      "source": [
        "#Conexão com Colab\n",
        "from google.colab import drive\n",
        "drive.mount('/content/gdrive',force_remount=True)\n",
        "from google.colab import files"
      ]
    },
    {
      "cell_type": "markdown",
      "source": [
        "Carregar Base GAMMA"
      ],
      "metadata": {
        "id": "Zl1iQAfTHIjp"
      }
    },
    {
      "cell_type": "code",
      "source": [
        "#Descompactar arquivo e salvar imagens (X) e CSV (LABELS)\n",
        "path_to_dataset = '/content/gdrive/MyDrive/Doutorado/Bases/GAMMA_training_data/multi-modality_images/dataset_fundus/dataset_fundus.zip'\n",
        "\n",
        "import zipfile\n",
        "\n",
        "def descompactar_arquivo(zip_path, destino):\n",
        "    \"\"\"Descompacta um arquivo .zip e salva em uma pasta específica.\"\"\"\n",
        "    if not os.path.exists(destino):\n",
        "        os.makedirs(destino)  # Cria a pasta de destino se não existir\n",
        "\n",
        "    with zipfile.ZipFile(zip_path, 'r') as zip_ref:\n",
        "        zip_ref.extractall(destino)\n",
        "        print(f\"Arquivos extraídos para: {destino}\")\n",
        "\n",
        "# Exemplo de uso\n",
        "zip_path = path_to_dataset  # Substitua pelo caminho do seu arquivo .zip\n",
        "destino = \"/content/Dataset GAMMA 2\"  # Substitua pelo caminho onde deseja salvar os arquivos\n",
        "\n",
        "descompactar_arquivo(zip_path, destino)\n"
      ],
      "metadata": {
        "colab": {
          "base_uri": "https://localhost:8080/"
        },
        "id": "t-T8-bisDxh9",
        "outputId": "032f5ff5-7aa9-4767-8c65-0196e4d71cdb"
      },
      "execution_count": 7,
      "outputs": [
        {
          "output_type": "stream",
          "name": "stdout",
          "text": [
            "Arquivos extraídos para: /content/Dataset GAMMA 2\n"
          ]
        }
      ]
    },
    {
      "cell_type": "code",
      "source": [
        "def carregar_imagens_e_labels(dataset_path):\n",
        "    \"\"\"Carrega imagens da pasta e os labels do arquivo train.csv\"\"\"\n",
        "    IMG_SIZE = (128, 128)\n",
        "    # Caminho do CSV com os labels\n",
        "    csv_path = os.path.join(dataset_path, \"train.csv\")\n",
        "\n",
        "    # Lendo os labels do CSV\n",
        "    df = pd.read_csv(csv_path)\n",
        "\n",
        "    # Criando listas para armazenar imagens e labels\n",
        "    X = []  # Lista de imagens (arrays)\n",
        "    y = []  # Lista de rótulos (classes)\n",
        "\n",
        "    # Percorrendo cada linha do CSV\n",
        "    for _, row in df.iterrows():\n",
        "        #img_name = row.iloc[0]  # Nome do arquivo da imagem (ex: \"0001.jpg\")\n",
        "        img_name = str(row.iloc[0]).zfill(4) + \".jpg\"\n",
        "        label = row.iloc[1:].values  # Labels (non, early, mid_advanced)\n",
        "\n",
        "        # Determinando a classe (índice do label 1)\n",
        "        class_id = np.argmax(label)  # Ex: [1, 0, 0] → 0 | [0, 0, 1] → 2\n",
        "\n",
        "        # Caminho completo da imagem\n",
        "        img_path = os.path.join(dataset_path, img_name)\n",
        "        #print(img_path)\n",
        "\n",
        "        # Verifica se a imagem existe antes de carregar\n",
        "        if os.path.exists(img_path):\n",
        "            # Carrega a imagem em escala de cinza (ou use cv2.IMREAD_COLOR para RGB)\n",
        "            #img = cv2.imread(img_path, cv2.IMREAD_GRAYSCALE)\n",
        "            img = cv2.imread(img_path, cv2.IMREAD_COLOR)\n",
        "            img = cv2.cvtColor(img, cv2.COLOR_BGR2RGB)\n",
        "\n",
        "            # Redimensiona para um tamanho fixo (opcional, ex: 128x128)\n",
        "            img = cv2.resize(img, IMG_SIZE)\n",
        "\n",
        "            # Normaliza os pixels (0 a 1)\n",
        "            img = img.astype(np.float32) / 255.0\n",
        "\n",
        "            # Adiciona à lista\n",
        "            X.append(img)\n",
        "            y.append(class_id)\n",
        "        else:\n",
        "            print(f\"⚠️ Aviso: Imagem {img_name} não encontrada.\")\n",
        "\n",
        "    # Convertendo listas para arrays NumPy\n",
        "    #X = np.array(X).reshape(-1, 128, 128, 1)  # Mantém formato para CNNs\n",
        "    X = np.array(X)\n",
        "    y = np.array(y)\n",
        "\n",
        "    print(f\"✅ {len(X)} imagens carregadas com sucesso!\")\n",
        "    return X, y\n",
        "\n",
        "# Caminho para a pasta do dataset\n",
        "dataset_path = \"/content/Dataset GAMMA 2\"\n",
        "\n",
        "# Chamando a função para carregar imagens e labels\n",
        "X, y = carregar_imagens_e_labels(dataset_path)\n",
        "\n",
        "# Verificando as dimensões\n",
        "print(f\"Formato de X: {X.shape}, Formato de y: {y.shape}\")\n"
      ],
      "metadata": {
        "colab": {
          "base_uri": "https://localhost:8080/"
        },
        "id": "sPTUBhMKKrIS",
        "outputId": "73505c85-fb63-452d-9ebb-3e79456a250c"
      },
      "execution_count": 19,
      "outputs": [
        {
          "output_type": "stream",
          "name": "stdout",
          "text": [
            "✅ 100 imagens carregadas com sucesso!\n",
            "Formato de X: (100, 128, 128, 3), Formato de y: (100,)\n"
          ]
        }
      ]
    },
    {
      "cell_type": "markdown",
      "source": [
        "# Construir Modelos"
      ],
      "metadata": {
        "id": "0xJ8igxtbR5N"
      }
    },
    {
      "cell_type": "code",
      "source": [],
      "metadata": {
        "id": "zcP_iWA2bVRz"
      },
      "execution_count": null,
      "outputs": []
    }
  ],
  "metadata": {
    "accelerator": "GPU",
    "colab": {
      "collapsed_sections": [
        "jRxJhbDD1rjF",
        "JKfQF15ZTb0-",
        "0JuMsdTRpP-E",
        "RV3qkXFlAglC",
        "E_kJg_kFQJlP",
        "OrROFMV0y0H0",
        "YLkUACHESKjb",
        "gpkDvRBKUftr",
        "jABlnmCHT1y5"
      ],
      "gpuType": "T4",
      "provenance": []
    },
    "kernelspec": {
      "display_name": "Python 3",
      "name": "python3"
    },
    "language_info": {
      "name": "python"
    }
  },
  "nbformat": 4,
  "nbformat_minor": 0
}