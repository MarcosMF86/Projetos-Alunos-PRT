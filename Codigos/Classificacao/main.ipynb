{
  "cells": [
    {
      "cell_type": "markdown",
      "metadata": {
        "id": "Fd-go3IiJkYQ"
      },
      "source": [
        "# Descrição"
      ]
    },
    {
      "cell_type": "markdown",
      "metadata": {
        "id": "oc9CViLzJRJ8"
      },
      "source": [
        "*Código base para classificação de imagens usando redes convolucionais\n",
        "*Bibliotecas\n",
        "*Carregar Bases de dados\n",
        "*Construir Modelos\n",
        "*Treinamento\n",
        "*Avaliação\n",
        "*Hold out\n",
        "Validação Cruzada"
      ]
    },
    {
      "cell_type": "markdown",
      "metadata": {
        "id": "eFpnwz0gS4u7"
      },
      "source": [
        "# Bibliotecas"
      ]
    },
    {
      "cell_type": "code",
      "execution_count": 10,
      "metadata": {
        "id": "xHb7hjIgdat3"
      },
      "outputs": [],
      "source": [
        "import os\n",
        "import zipfile\n",
        "import cv2\n",
        "import numpy as np\n",
        "import pandas as pd\n",
        "import tensorflow as tf\n",
        "import matplotlib.pyplot as plt\n",
        "from tensorflow import keras\n",
        "from tensorflow.keras import layers\n",
        "from tensorflow.keras.utils import to_categorical\n",
        "from tensorflow.keras.optimizers import Adam\n",
        "from tensorflow.keras.callbacks import ModelCheckpoint, ReduceLROnPlateau\n",
        "from albumentations.core.composition import OneOf\n",
        "from tensorflow.keras.preprocessing.image import load_img, img_to_array\n",
        "from sklearn.model_selection import train_test_split"
      ]
    },
    {
      "cell_type": "markdown",
      "source": [
        "# Carregar Bases dados"
      ],
      "metadata": {
        "id": "qJ0olSKvCUh3"
      }
    },
    {
      "cell_type": "code",
      "execution_count": 2,
      "metadata": {
        "colab": {
          "base_uri": "https://localhost:8080/"
        },
        "id": "VyrLE6esNodC",
        "outputId": "a4a94620-fe61-4776-81a7-e92c9203f1d4"
      },
      "outputs": [
        {
          "output_type": "stream",
          "name": "stdout",
          "text": [
            "Mounted at /content/gdrive\n"
          ]
        }
      ],
      "source": [
        "#Conexão com Colab\n",
        "from google.colab import drive\n",
        "drive.mount('/content/gdrive',force_remount=True)\n",
        "from google.colab import files"
      ]
    },
    {
      "cell_type": "markdown",
      "source": [
        "Carregar Base GAMMA"
      ],
      "metadata": {
        "id": "Zl1iQAfTHIjp"
      }
    },
    {
      "cell_type": "code",
      "source": [
        "#Descompactar arquivo e salvar imagens (X) e CSV (LABELS)\n",
        "path_to_dataset = '/content/gdrive/MyDrive/Doutorado/Bases/GAMMA_training_data/multi-modality_images/dataset_fundus/dataset_fundus.zip'\n",
        "\n",
        "import zipfile\n",
        "\n",
        "def descompactar_arquivo(zip_path, destino):\n",
        "    \"\"\"Descompacta um arquivo .zip e salva em uma pasta específica.\"\"\"\n",
        "    if not os.path.exists(destino):\n",
        "        os.makedirs(destino)  # Cria a pasta de destino se não existir\n",
        "\n",
        "    with zipfile.ZipFile(zip_path, 'r') as zip_ref:\n",
        "        zip_ref.extractall(destino)\n",
        "        print(f\"Arquivos extraídos para: {destino}\")\n",
        "\n",
        "# Exemplo de uso\n",
        "zip_path = path_to_dataset  # Substitua pelo caminho do seu arquivo .zip\n",
        "destino = \"/content/Dataset GAMMA 2\"  # Substitua pelo caminho onde deseja salvar os arquivos\n",
        "\n",
        "descompactar_arquivo(zip_path, destino)\n"
      ],
      "metadata": {
        "colab": {
          "base_uri": "https://localhost:8080/"
        },
        "id": "t-T8-bisDxh9",
        "outputId": "4262516b-4299-4bd0-9014-45260eb802c6"
      },
      "execution_count": 3,
      "outputs": [
        {
          "output_type": "stream",
          "name": "stdout",
          "text": [
            "Arquivos extraídos para: /content/Dataset GAMMA 2\n"
          ]
        }
      ]
    },
    {
      "cell_type": "code",
      "source": [
        "def carregar_imagens_e_labels(dataset_path):\n",
        "    \"\"\"Carrega imagens da pasta e os labels do arquivo train.csv\"\"\"\n",
        "    #IMG_SIZE = (128, 128)\n",
        "    # Caminho do CSV com os labels\n",
        "    csv_path = os.path.join(dataset_path, \"train.csv\")\n",
        "\n",
        "    # Lendo os labels do CSV\n",
        "    df = pd.read_csv(csv_path)\n",
        "\n",
        "    # Criando listas para armazenar imagens e labels\n",
        "    X = []  # Lista de imagens (arrays)\n",
        "    y = []  # Lista de rótulos (classes)\n",
        "\n",
        "    # Percorrendo cada linha do CSV\n",
        "    for _, row in df.iterrows():\n",
        "        #img_name = row.iloc[0]  # Nome do arquivo da imagem (ex: \"0001.jpg\")\n",
        "        img_name = str(row.iloc[0]).zfill(4) + \".jpg\"\n",
        "        label = row.iloc[1:].values  # Labels (non, early, mid_advanced)\n",
        "\n",
        "        # Determinando a classe (índice do label 1)\n",
        "        class_id = np.argmax(label)  # Ex: [1, 0, 0] → 0 | [0, 0, 1] → 2\n",
        "\n",
        "        # Caminho completo da imagem\n",
        "        img_path = os.path.join(dataset_path, img_name)\n",
        "        #print(img_path)\n",
        "\n",
        "        # Verifica se a imagem existe antes de carregar\n",
        "        if os.path.exists(img_path):\n",
        "            # Carrega a imagem em escala de cinza (ou use cv2.IMREAD_COLOR para RGB)\n",
        "            #img = cv2.imread(img_path, cv2.IMREAD_GRAYSCALE)\n",
        "            img = cv2.imread(img_path, cv2.IMREAD_COLOR)\n",
        "            img = cv2.cvtColor(img, cv2.COLOR_BGR2RGB)\n",
        "\n",
        "            # Redimensiona para um tamanho fixo (opcional, ex: 128x128)\n",
        "            img = cv2.resize(img, IMG_SIZE)\n",
        "\n",
        "            # Normaliza os pixels (0 a 1)\n",
        "            img = img.astype(np.float32) / 255.0\n",
        "\n",
        "            # Adiciona à lista\n",
        "            X.append(img)\n",
        "            y.append(class_id)\n",
        "        else:\n",
        "            print(f\"⚠️ Aviso: Imagem {img_name} não encontrada.\")\n",
        "\n",
        "    # Convertendo listas para arrays NumPy\n",
        "    #X = np.array(X).reshape(-1, 128, 128, 1)  # Mantém formato para CNNs\n",
        "    X = np.array(X)\n",
        "    y = np.array(y)\n",
        "\n",
        "    print(f\"✅ {len(X)} imagens carregadas com sucesso!\")\n",
        "    return X, y\n",
        "\n",
        "# Caminho para a pasta do dataset\n",
        "dataset_path = \"/content/Dataset GAMMA 2\"\n",
        "IMG_SIZE = (128, 128)\n",
        "# Chamando a função para carregar imagens e labels\n",
        "X, y = carregar_imagens_e_labels(dataset_path)\n",
        "\n",
        "# Verificando as dimensões\n",
        "print(f\"Formato de X: {X.shape}, Formato de y: {y.shape}\")\n"
      ],
      "metadata": {
        "colab": {
          "base_uri": "https://localhost:8080/"
        },
        "id": "sPTUBhMKKrIS",
        "outputId": "de5b9919-4558-4649-c033-9ddefe33474b"
      },
      "execution_count": 6,
      "outputs": [
        {
          "output_type": "stream",
          "name": "stdout",
          "text": [
            "✅ 100 imagens carregadas com sucesso!\n",
            "Formato de X: (100, 128, 128, 3), Formato de y: (100,)\n"
          ]
        }
      ]
    },
    {
      "cell_type": "markdown",
      "source": [
        "# Construir Modelos"
      ],
      "metadata": {
        "id": "0xJ8igxtbR5N"
      }
    },
    {
      "cell_type": "code",
      "source": [
        "# Definição da CNN\n",
        "def criar_modelo(input_shape, num_classes):\n",
        "    model = keras.Sequential([\n",
        "        # 🔹 Bloco convolucional 1\n",
        "        layers.Conv2D(32, (3, 3), activation='relu', padding='same', input_shape=input_shape),\n",
        "        layers.MaxPooling2D((2, 2)),\n",
        "\n",
        "        # 🔹 Bloco convolucional 2\n",
        "        layers.Conv2D(64, (3, 3), activation='relu', padding='same'),\n",
        "        layers.MaxPooling2D((2, 2)),\n",
        "\n",
        "        # 🔹 Achatar para camada totalmente conectada\n",
        "        layers.Flatten(),\n",
        "\n",
        "        # 🔹 Camada densa 1\n",
        "        layers.Dense(128, activation='relu'),\n",
        "\n",
        "        # 🔹 Camada densa final (softmax para classificação)\n",
        "        layers.Dense(num_classes, activation='softmax')\n",
        "    ])\n",
        "\n",
        "    # Compilar o modelo\n",
        "    model.compile(optimizer='adam',\n",
        "                  loss='sparse_categorical_crossentropy',\n",
        "                  metrics=['accuracy'])\n",
        "\n",
        "    return model\n",
        "\n",
        "# 🔹 Definições de entrada\n",
        "#input_shape = ((IMG_SIZE), 3)  # Exemplo: imagens coloridas 128x128\n",
        "input_shape = (IMG_SIZE[0], IMG_SIZE[1], 3)# Exemplo: imagens coloridas 128x128\n",
        "num_classes = len(np.unique(y))  # Exemplo: 3 categorias\n",
        "\n",
        "# Criar o modelo\n",
        "modelo = criar_modelo(input_shape, num_classes)\n",
        "\n",
        "# Resumo da arquitetura\n",
        "modelo.summary()"
      ],
      "metadata": {
        "colab": {
          "base_uri": "https://localhost:8080/",
          "height": 429
        },
        "id": "zcP_iWA2bVRz",
        "outputId": "db5f30e3-73fd-49cf-dfa3-5baaa7d96af6"
      },
      "execution_count": 9,
      "outputs": [
        {
          "output_type": "stream",
          "name": "stderr",
          "text": [
            "/usr/local/lib/python3.11/dist-packages/keras/src/layers/convolutional/base_conv.py:107: UserWarning: Do not pass an `input_shape`/`input_dim` argument to a layer. When using Sequential models, prefer using an `Input(shape)` object as the first layer in the model instead.\n",
            "  super().__init__(activity_regularizer=activity_regularizer, **kwargs)\n"
          ]
        },
        {
          "output_type": "display_data",
          "data": {
            "text/plain": [
              "\u001b[1mModel: \"sequential_2\"\u001b[0m\n"
            ],
            "text/html": [
              "<pre style=\"white-space:pre;overflow-x:auto;line-height:normal;font-family:Menlo,'DejaVu Sans Mono',consolas,'Courier New',monospace\"><span style=\"font-weight: bold\">Model: \"sequential_2\"</span>\n",
              "</pre>\n"
            ]
          },
          "metadata": {}
        },
        {
          "output_type": "display_data",
          "data": {
            "text/plain": [
              "┏━━━━━━━━━━━━━━━━━━━━━━━━━━━━━━━━━━━━━━┳━━━━━━━━━━━━━━━━━━━━━━━━━━━━━┳━━━━━━━━━━━━━━━━━┓\n",
              "┃\u001b[1m \u001b[0m\u001b[1mLayer (type)                        \u001b[0m\u001b[1m \u001b[0m┃\u001b[1m \u001b[0m\u001b[1mOutput Shape               \u001b[0m\u001b[1m \u001b[0m┃\u001b[1m \u001b[0m\u001b[1m        Param #\u001b[0m\u001b[1m \u001b[0m┃\n",
              "┡━━━━━━━━━━━━━━━━━━━━━━━━━━━━━━━━━━━━━━╇━━━━━━━━━━━━━━━━━━━━━━━━━━━━━╇━━━━━━━━━━━━━━━━━┩\n",
              "│ conv2d_4 (\u001b[38;5;33mConv2D\u001b[0m)                    │ (\u001b[38;5;45mNone\u001b[0m, \u001b[38;5;34m128\u001b[0m, \u001b[38;5;34m128\u001b[0m, \u001b[38;5;34m32\u001b[0m)        │             \u001b[38;5;34m896\u001b[0m │\n",
              "├──────────────────────────────────────┼─────────────────────────────┼─────────────────┤\n",
              "│ max_pooling2d_4 (\u001b[38;5;33mMaxPooling2D\u001b[0m)       │ (\u001b[38;5;45mNone\u001b[0m, \u001b[38;5;34m64\u001b[0m, \u001b[38;5;34m64\u001b[0m, \u001b[38;5;34m32\u001b[0m)          │               \u001b[38;5;34m0\u001b[0m │\n",
              "├──────────────────────────────────────┼─────────────────────────────┼─────────────────┤\n",
              "│ conv2d_5 (\u001b[38;5;33mConv2D\u001b[0m)                    │ (\u001b[38;5;45mNone\u001b[0m, \u001b[38;5;34m64\u001b[0m, \u001b[38;5;34m64\u001b[0m, \u001b[38;5;34m64\u001b[0m)          │          \u001b[38;5;34m18,496\u001b[0m │\n",
              "├──────────────────────────────────────┼─────────────────────────────┼─────────────────┤\n",
              "│ max_pooling2d_5 (\u001b[38;5;33mMaxPooling2D\u001b[0m)       │ (\u001b[38;5;45mNone\u001b[0m, \u001b[38;5;34m32\u001b[0m, \u001b[38;5;34m32\u001b[0m, \u001b[38;5;34m64\u001b[0m)          │               \u001b[38;5;34m0\u001b[0m │\n",
              "├──────────────────────────────────────┼─────────────────────────────┼─────────────────┤\n",
              "│ flatten_2 (\u001b[38;5;33mFlatten\u001b[0m)                  │ (\u001b[38;5;45mNone\u001b[0m, \u001b[38;5;34m65536\u001b[0m)               │               \u001b[38;5;34m0\u001b[0m │\n",
              "├──────────────────────────────────────┼─────────────────────────────┼─────────────────┤\n",
              "│ dense_4 (\u001b[38;5;33mDense\u001b[0m)                      │ (\u001b[38;5;45mNone\u001b[0m, \u001b[38;5;34m128\u001b[0m)                 │       \u001b[38;5;34m8,388,736\u001b[0m │\n",
              "├──────────────────────────────────────┼─────────────────────────────┼─────────────────┤\n",
              "│ dense_5 (\u001b[38;5;33mDense\u001b[0m)                      │ (\u001b[38;5;45mNone\u001b[0m, \u001b[38;5;34m3\u001b[0m)                   │             \u001b[38;5;34m387\u001b[0m │\n",
              "└──────────────────────────────────────┴─────────────────────────────┴─────────────────┘\n"
            ],
            "text/html": [
              "<pre style=\"white-space:pre;overflow-x:auto;line-height:normal;font-family:Menlo,'DejaVu Sans Mono',consolas,'Courier New',monospace\">┏━━━━━━━━━━━━━━━━━━━━━━━━━━━━━━━━━━━━━━┳━━━━━━━━━━━━━━━━━━━━━━━━━━━━━┳━━━━━━━━━━━━━━━━━┓\n",
              "┃<span style=\"font-weight: bold\"> Layer (type)                         </span>┃<span style=\"font-weight: bold\"> Output Shape                </span>┃<span style=\"font-weight: bold\">         Param # </span>┃\n",
              "┡━━━━━━━━━━━━━━━━━━━━━━━━━━━━━━━━━━━━━━╇━━━━━━━━━━━━━━━━━━━━━━━━━━━━━╇━━━━━━━━━━━━━━━━━┩\n",
              "│ conv2d_4 (<span style=\"color: #0087ff; text-decoration-color: #0087ff\">Conv2D</span>)                    │ (<span style=\"color: #00d7ff; text-decoration-color: #00d7ff\">None</span>, <span style=\"color: #00af00; text-decoration-color: #00af00\">128</span>, <span style=\"color: #00af00; text-decoration-color: #00af00\">128</span>, <span style=\"color: #00af00; text-decoration-color: #00af00\">32</span>)        │             <span style=\"color: #00af00; text-decoration-color: #00af00\">896</span> │\n",
              "├──────────────────────────────────────┼─────────────────────────────┼─────────────────┤\n",
              "│ max_pooling2d_4 (<span style=\"color: #0087ff; text-decoration-color: #0087ff\">MaxPooling2D</span>)       │ (<span style=\"color: #00d7ff; text-decoration-color: #00d7ff\">None</span>, <span style=\"color: #00af00; text-decoration-color: #00af00\">64</span>, <span style=\"color: #00af00; text-decoration-color: #00af00\">64</span>, <span style=\"color: #00af00; text-decoration-color: #00af00\">32</span>)          │               <span style=\"color: #00af00; text-decoration-color: #00af00\">0</span> │\n",
              "├──────────────────────────────────────┼─────────────────────────────┼─────────────────┤\n",
              "│ conv2d_5 (<span style=\"color: #0087ff; text-decoration-color: #0087ff\">Conv2D</span>)                    │ (<span style=\"color: #00d7ff; text-decoration-color: #00d7ff\">None</span>, <span style=\"color: #00af00; text-decoration-color: #00af00\">64</span>, <span style=\"color: #00af00; text-decoration-color: #00af00\">64</span>, <span style=\"color: #00af00; text-decoration-color: #00af00\">64</span>)          │          <span style=\"color: #00af00; text-decoration-color: #00af00\">18,496</span> │\n",
              "├──────────────────────────────────────┼─────────────────────────────┼─────────────────┤\n",
              "│ max_pooling2d_5 (<span style=\"color: #0087ff; text-decoration-color: #0087ff\">MaxPooling2D</span>)       │ (<span style=\"color: #00d7ff; text-decoration-color: #00d7ff\">None</span>, <span style=\"color: #00af00; text-decoration-color: #00af00\">32</span>, <span style=\"color: #00af00; text-decoration-color: #00af00\">32</span>, <span style=\"color: #00af00; text-decoration-color: #00af00\">64</span>)          │               <span style=\"color: #00af00; text-decoration-color: #00af00\">0</span> │\n",
              "├──────────────────────────────────────┼─────────────────────────────┼─────────────────┤\n",
              "│ flatten_2 (<span style=\"color: #0087ff; text-decoration-color: #0087ff\">Flatten</span>)                  │ (<span style=\"color: #00d7ff; text-decoration-color: #00d7ff\">None</span>, <span style=\"color: #00af00; text-decoration-color: #00af00\">65536</span>)               │               <span style=\"color: #00af00; text-decoration-color: #00af00\">0</span> │\n",
              "├──────────────────────────────────────┼─────────────────────────────┼─────────────────┤\n",
              "│ dense_4 (<span style=\"color: #0087ff; text-decoration-color: #0087ff\">Dense</span>)                      │ (<span style=\"color: #00d7ff; text-decoration-color: #00d7ff\">None</span>, <span style=\"color: #00af00; text-decoration-color: #00af00\">128</span>)                 │       <span style=\"color: #00af00; text-decoration-color: #00af00\">8,388,736</span> │\n",
              "├──────────────────────────────────────┼─────────────────────────────┼─────────────────┤\n",
              "│ dense_5 (<span style=\"color: #0087ff; text-decoration-color: #0087ff\">Dense</span>)                      │ (<span style=\"color: #00d7ff; text-decoration-color: #00d7ff\">None</span>, <span style=\"color: #00af00; text-decoration-color: #00af00\">3</span>)                   │             <span style=\"color: #00af00; text-decoration-color: #00af00\">387</span> │\n",
              "└──────────────────────────────────────┴─────────────────────────────┴─────────────────┘\n",
              "</pre>\n"
            ]
          },
          "metadata": {}
        },
        {
          "output_type": "display_data",
          "data": {
            "text/plain": [
              "\u001b[1m Total params: \u001b[0m\u001b[38;5;34m8,408,515\u001b[0m (32.08 MB)\n"
            ],
            "text/html": [
              "<pre style=\"white-space:pre;overflow-x:auto;line-height:normal;font-family:Menlo,'DejaVu Sans Mono',consolas,'Courier New',monospace\"><span style=\"font-weight: bold\"> Total params: </span><span style=\"color: #00af00; text-decoration-color: #00af00\">8,408,515</span> (32.08 MB)\n",
              "</pre>\n"
            ]
          },
          "metadata": {}
        },
        {
          "output_type": "display_data",
          "data": {
            "text/plain": [
              "\u001b[1m Trainable params: \u001b[0m\u001b[38;5;34m8,408,515\u001b[0m (32.08 MB)\n"
            ],
            "text/html": [
              "<pre style=\"white-space:pre;overflow-x:auto;line-height:normal;font-family:Menlo,'DejaVu Sans Mono',consolas,'Courier New',monospace\"><span style=\"font-weight: bold\"> Trainable params: </span><span style=\"color: #00af00; text-decoration-color: #00af00\">8,408,515</span> (32.08 MB)\n",
              "</pre>\n"
            ]
          },
          "metadata": {}
        },
        {
          "output_type": "display_data",
          "data": {
            "text/plain": [
              "\u001b[1m Non-trainable params: \u001b[0m\u001b[38;5;34m0\u001b[0m (0.00 B)\n"
            ],
            "text/html": [
              "<pre style=\"white-space:pre;overflow-x:auto;line-height:normal;font-family:Menlo,'DejaVu Sans Mono',consolas,'Courier New',monospace\"><span style=\"font-weight: bold\"> Non-trainable params: </span><span style=\"color: #00af00; text-decoration-color: #00af00\">0</span> (0.00 B)\n",
              "</pre>\n"
            ]
          },
          "metadata": {}
        }
      ]
    },
    {
      "cell_type": "markdown",
      "source": [
        "# Treino"
      ],
      "metadata": {
        "id": "ZaR0zS39JAeC"
      }
    },
    {
      "cell_type": "code",
      "source": [
        "def treinar_holdout(model, X, y, test_size, epochs, batch_size):\n",
        "    \"\"\"\n",
        "    Treina um modelo CNN usando Hold-Out.\n",
        "\n",
        "    Parâmetros:\n",
        "        model: Modelo Keras a ser treinado.\n",
        "        X: Dados de entrada (imagens).\n",
        "        y: Rótulos correspondentes.\n",
        "        test_size: Proporção dos dados para validação (default: 20%).\n",
        "        epochs: Número de épocas de treinamento.\n",
        "        batch_size: Tamanho do lote para o treinamento.\n",
        "\n",
        "    Retorna:\n",
        "        O histórico do treinamento.\n",
        "    \"\"\"\n",
        "    # 🔹 Dividir os dados em treino e validação\n",
        "    X_train, X_val, y_train, y_val = train_test_split(X, y, test_size=test_size, random_state=42)\n",
        "\n",
        "    # 🔹 Treinar o modelo\n",
        "    history = model.fit(\n",
        "        X_train, y_train,\n",
        "        epochs=epochs,\n",
        "        batch_size=batch_size,\n",
        "        validation_data=(X_val, y_val)\n",
        "    )\n",
        "\n",
        "    return history\n",
        "\n",
        "# Exemplo de uso\n",
        "# Supondo que X e y sejam os dados carregados corretamente\n",
        "# X.shape = (n_amostras, largura, altura, canais) | y.shape = (n_amostras,)\n",
        "batch = 5\n",
        "epochs = 30\n",
        "test_size = 0.1\n",
        "modelo = criar_modelo(input_shape=input_shape, num_classes=num_classes)\n",
        "history = treinar_holdout(modelo, X, y, test_size, epochs, batch)"
      ],
      "metadata": {
        "colab": {
          "base_uri": "https://localhost:8080/"
        },
        "id": "T_CzlFfFJCMr",
        "outputId": "02bb4da2-e190-403a-d0fe-1ce48712571a"
      },
      "execution_count": 12,
      "outputs": [
        {
          "output_type": "stream",
          "name": "stdout",
          "text": [
            "Epoch 1/30\n",
            "\u001b[1m18/18\u001b[0m \u001b[32m━━━━━━━━━━━━━━━━━━━━\u001b[0m\u001b[37m\u001b[0m \u001b[1m3s\u001b[0m 37ms/step - accuracy: 0.5080 - loss: 1.1188 - val_accuracy: 0.8000 - val_loss: 0.9195\n",
            "Epoch 2/30\n",
            "\u001b[1m18/18\u001b[0m \u001b[32m━━━━━━━━━━━━━━━━━━━━\u001b[0m\u001b[37m\u001b[0m \u001b[1m2s\u001b[0m 15ms/step - accuracy: 0.6002 - loss: 0.8757 - val_accuracy: 0.7000 - val_loss: 1.3461\n",
            "Epoch 3/30\n",
            "\u001b[1m18/18\u001b[0m \u001b[32m━━━━━━━━━━━━━━━━━━━━\u001b[0m\u001b[37m\u001b[0m \u001b[1m0s\u001b[0m 15ms/step - accuracy: 0.6250 - loss: 0.7278 - val_accuracy: 0.7000 - val_loss: 0.9705\n",
            "Epoch 4/30\n",
            "\u001b[1m18/18\u001b[0m \u001b[32m━━━━━━━━━━━━━━━━━━━━\u001b[0m\u001b[37m\u001b[0m \u001b[1m0s\u001b[0m 14ms/step - accuracy: 0.7050 - loss: 0.6483 - val_accuracy: 0.6000 - val_loss: 0.8288\n",
            "Epoch 5/30\n",
            "\u001b[1m18/18\u001b[0m \u001b[32m━━━━━━━━━━━━━━━━━━━━\u001b[0m\u001b[37m\u001b[0m \u001b[1m0s\u001b[0m 14ms/step - accuracy: 0.7774 - loss: 0.5902 - val_accuracy: 0.7000 - val_loss: 1.1689\n",
            "Epoch 6/30\n",
            "\u001b[1m18/18\u001b[0m \u001b[32m━━━━━━━━━━━━━━━━━━━━\u001b[0m\u001b[37m\u001b[0m \u001b[1m0s\u001b[0m 12ms/step - accuracy: 0.7996 - loss: 0.5041 - val_accuracy: 0.7000 - val_loss: 1.1055\n",
            "Epoch 7/30\n",
            "\u001b[1m18/18\u001b[0m \u001b[32m━━━━━━━━━━━━━━━━━━━━\u001b[0m\u001b[37m\u001b[0m \u001b[1m0s\u001b[0m 15ms/step - accuracy: 0.8006 - loss: 0.4573 - val_accuracy: 0.7000 - val_loss: 1.5509\n",
            "Epoch 8/30\n",
            "\u001b[1m18/18\u001b[0m \u001b[32m━━━━━━━━━━━━━━━━━━━━\u001b[0m\u001b[37m\u001b[0m \u001b[1m0s\u001b[0m 16ms/step - accuracy: 0.7698 - loss: 0.5838 - val_accuracy: 0.7000 - val_loss: 3.0315\n",
            "Epoch 9/30\n",
            "\u001b[1m18/18\u001b[0m \u001b[32m━━━━━━━━━━━━━━━━━━━━\u001b[0m\u001b[37m\u001b[0m \u001b[1m1s\u001b[0m 14ms/step - accuracy: 0.7749 - loss: 0.6155 - val_accuracy: 0.9000 - val_loss: 1.2344\n",
            "Epoch 10/30\n",
            "\u001b[1m18/18\u001b[0m \u001b[32m━━━━━━━━━━━━━━━━━━━━\u001b[0m\u001b[37m\u001b[0m \u001b[1m0s\u001b[0m 10ms/step - accuracy: 0.8943 - loss: 0.3545 - val_accuracy: 0.8000 - val_loss: 1.3723\n",
            "Epoch 11/30\n",
            "\u001b[1m18/18\u001b[0m \u001b[32m━━━━━━━━━━━━━━━━━━━━\u001b[0m\u001b[37m\u001b[0m \u001b[1m0s\u001b[0m 10ms/step - accuracy: 0.9264 - loss: 0.2517 - val_accuracy: 0.7000 - val_loss: 1.9091\n",
            "Epoch 12/30\n",
            "\u001b[1m18/18\u001b[0m \u001b[32m━━━━━━━━━━━━━━━━━━━━\u001b[0m\u001b[37m\u001b[0m \u001b[1m0s\u001b[0m 11ms/step - accuracy: 0.8853 - loss: 0.2360 - val_accuracy: 0.7000 - val_loss: 2.3899\n",
            "Epoch 13/30\n",
            "\u001b[1m18/18\u001b[0m \u001b[32m━━━━━━━━━━━━━━━━━━━━\u001b[0m\u001b[37m\u001b[0m \u001b[1m0s\u001b[0m 10ms/step - accuracy: 0.8918 - loss: 0.2256 - val_accuracy: 0.7000 - val_loss: 2.4224\n",
            "Epoch 14/30\n",
            "\u001b[1m18/18\u001b[0m \u001b[32m━━━━━━━━━━━━━━━━━━━━\u001b[0m\u001b[37m\u001b[0m \u001b[1m0s\u001b[0m 10ms/step - accuracy: 0.9516 - loss: 0.1462 - val_accuracy: 0.8000 - val_loss: 2.4859\n",
            "Epoch 15/30\n",
            "\u001b[1m18/18\u001b[0m \u001b[32m━━━━━━━━━━━━━━━━━━━━\u001b[0m\u001b[37m\u001b[0m \u001b[1m0s\u001b[0m 12ms/step - accuracy: 0.9744 - loss: 0.1090 - val_accuracy: 0.6000 - val_loss: 2.2657\n",
            "Epoch 16/30\n",
            "\u001b[1m18/18\u001b[0m \u001b[32m━━━━━━━━━━━━━━━━━━━━\u001b[0m\u001b[37m\u001b[0m \u001b[1m0s\u001b[0m 10ms/step - accuracy: 0.9566 - loss: 0.1331 - val_accuracy: 0.7000 - val_loss: 2.6504\n",
            "Epoch 17/30\n",
            "\u001b[1m18/18\u001b[0m \u001b[32m━━━━━━━━━━━━━━━━━━━━\u001b[0m\u001b[37m\u001b[0m \u001b[1m0s\u001b[0m 10ms/step - accuracy: 0.9579 - loss: 0.1328 - val_accuracy: 0.8000 - val_loss: 2.2633\n",
            "Epoch 18/30\n",
            "\u001b[1m18/18\u001b[0m \u001b[32m━━━━━━━━━━━━━━━━━━━━\u001b[0m\u001b[37m\u001b[0m \u001b[1m0s\u001b[0m 10ms/step - accuracy: 0.9944 - loss: 0.0673 - val_accuracy: 0.7000 - val_loss: 2.5679\n",
            "Epoch 19/30\n",
            "\u001b[1m18/18\u001b[0m \u001b[32m━━━━━━━━━━━━━━━━━━━━\u001b[0m\u001b[37m\u001b[0m \u001b[1m0s\u001b[0m 10ms/step - accuracy: 0.9867 - loss: 0.0339 - val_accuracy: 0.7000 - val_loss: 2.8368\n",
            "Epoch 20/30\n",
            "\u001b[1m18/18\u001b[0m \u001b[32m━━━━━━━━━━━━━━━━━━━━\u001b[0m\u001b[37m\u001b[0m \u001b[1m0s\u001b[0m 11ms/step - accuracy: 1.0000 - loss: 0.0319 - val_accuracy: 0.7000 - val_loss: 2.8814\n",
            "Epoch 21/30\n",
            "\u001b[1m18/18\u001b[0m \u001b[32m━━━━━━━━━━━━━━━━━━━━\u001b[0m\u001b[37m\u001b[0m \u001b[1m0s\u001b[0m 11ms/step - accuracy: 1.0000 - loss: 0.0133 - val_accuracy: 0.7000 - val_loss: 3.0567\n",
            "Epoch 22/30\n",
            "\u001b[1m18/18\u001b[0m \u001b[32m━━━━━━━━━━━━━━━━━━━━\u001b[0m\u001b[37m\u001b[0m \u001b[1m0s\u001b[0m 12ms/step - accuracy: 1.0000 - loss: 0.0131 - val_accuracy: 0.6000 - val_loss: 3.3411\n",
            "Epoch 23/30\n",
            "\u001b[1m18/18\u001b[0m \u001b[32m━━━━━━━━━━━━━━━━━━━━\u001b[0m\u001b[37m\u001b[0m \u001b[1m0s\u001b[0m 10ms/step - accuracy: 1.0000 - loss: 0.0151 - val_accuracy: 0.7000 - val_loss: 3.0402\n",
            "Epoch 24/30\n",
            "\u001b[1m18/18\u001b[0m \u001b[32m━━━━━━━━━━━━━━━━━━━━\u001b[0m\u001b[37m\u001b[0m \u001b[1m0s\u001b[0m 10ms/step - accuracy: 1.0000 - loss: 0.0163 - val_accuracy: 0.6000 - val_loss: 2.7506\n",
            "Epoch 25/30\n",
            "\u001b[1m18/18\u001b[0m \u001b[32m━━━━━━━━━━━━━━━━━━━━\u001b[0m\u001b[37m\u001b[0m \u001b[1m0s\u001b[0m 10ms/step - accuracy: 1.0000 - loss: 0.0098 - val_accuracy: 0.6000 - val_loss: 2.8723\n",
            "Epoch 26/30\n",
            "\u001b[1m18/18\u001b[0m \u001b[32m━━━━━━━━━━━━━━━━━━━━\u001b[0m\u001b[37m\u001b[0m \u001b[1m0s\u001b[0m 12ms/step - accuracy: 1.0000 - loss: 0.0120 - val_accuracy: 0.6000 - val_loss: 3.2455\n",
            "Epoch 27/30\n",
            "\u001b[1m18/18\u001b[0m \u001b[32m━━━━━━━━━━━━━━━━━━━━\u001b[0m\u001b[37m\u001b[0m \u001b[1m0s\u001b[0m 10ms/step - accuracy: 1.0000 - loss: 0.0045 - val_accuracy: 0.6000 - val_loss: 3.3140\n",
            "Epoch 28/30\n",
            "\u001b[1m18/18\u001b[0m \u001b[32m━━━━━━━━━━━━━━━━━━━━\u001b[0m\u001b[37m\u001b[0m \u001b[1m0s\u001b[0m 10ms/step - accuracy: 1.0000 - loss: 0.0037 - val_accuracy: 0.6000 - val_loss: 3.3886\n",
            "Epoch 29/30\n",
            "\u001b[1m18/18\u001b[0m \u001b[32m━━━━━━━━━━━━━━━━━━━━\u001b[0m\u001b[37m\u001b[0m \u001b[1m0s\u001b[0m 10ms/step - accuracy: 1.0000 - loss: 0.0019 - val_accuracy: 0.6000 - val_loss: 3.4642\n",
            "Epoch 30/30\n",
            "\u001b[1m18/18\u001b[0m \u001b[32m━━━━━━━━━━━━━━━━━━━━\u001b[0m\u001b[37m\u001b[0m \u001b[1m0s\u001b[0m 10ms/step - accuracy: 1.0000 - loss: 0.0024 - val_accuracy: 0.6000 - val_loss: 3.5637\n"
          ]
        }
      ]
    }
  ],
  "metadata": {
    "accelerator": "GPU",
    "colab": {
      "collapsed_sections": [
        "jRxJhbDD1rjF",
        "JKfQF15ZTb0-",
        "0JuMsdTRpP-E",
        "RV3qkXFlAglC",
        "E_kJg_kFQJlP",
        "OrROFMV0y0H0",
        "YLkUACHESKjb",
        "gpkDvRBKUftr",
        "jABlnmCHT1y5"
      ],
      "gpuType": "T4",
      "provenance": []
    },
    "kernelspec": {
      "display_name": "Python 3",
      "name": "python3"
    },
    "language_info": {
      "name": "python"
    }
  },
  "nbformat": 4,
  "nbformat_minor": 0
}